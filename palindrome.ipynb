{
 "cells": [
  {
   "cell_type": "code",
   "execution_count": 2,
   "metadata": {},
   "outputs": [
    {
     "name": "stdout",
     "output_type": "stream",
     "text": [
      "    0 \n",
      "   1 1 \n",
      "  2 3 5 \n",
      " 8 13 21 34 \n",
      "55 89 144 233 377 \n",
      "Id not in fibonacci\n"
     ]
    }
   ],
   "source": [
    "rows=int(input()) \n",
    "n=rows*(rows+1)//2 \n",
    "fib=[0,1] \n",
    "num1,num2=0,1 \n",
    "for i in range(n-2): \n",
    "    num3=num1+num2 \n",
    "    fib.append(num3) \n",
    "    num1=num2 \n",
    "    num2=num3 \n",
    "index=0 \n",
    "for i in range(1,rows+1): \n",
    "    print(\" \"*(rows-i),end=\"\") \n",
    "    for j in range(i): \n",
    "        print(fib[index],end=\" \") \n",
    "        index+=1 \n",
    "    print() \n",
    "flag=0 \n",
    "id=int(input()) \n",
    "for n in fib: \n",
    "    if n==id: \n",
    "        print(\"Id in fibonacci\") \n",
    "        flag=1 \n",
    "        break \n",
    "if flag==0:print('Id not in fibonacci')"
   ]
  },
  {
   "cell_type": "code",
   "execution_count": 3,
   "metadata": {},
   "outputs": [
    {
     "name": "stdout",
     "output_type": "stream",
     "text": [
      "      0 \n",
      "     1 1 \n",
      "    2 3 5 \n",
      "   8 13 21 34 \n",
      "  55 89 144 233 377 \n",
      " 610 987 1597 2584 4181 6765 \n",
      "10946 17711 28657 46368 75025 121393 196418 \n"
     ]
    },
    {
     "data": {
      "text/plain": [
       "False"
      ]
     },
     "execution_count": 3,
     "metadata": {},
     "output_type": "execute_result"
    }
   ],
   "source": [
    "# Function to generate Fibonacci sequence up to a given number\n",
    "def fibonacci_up_to(n):\n",
    "    fib_sequence = [0, 1]\n",
    "    while True:\n",
    "        next_fib = fib_sequence[-1] + fib_sequence[-2]\n",
    "        if next_fib > n:\n",
    "            break\n",
    "        fib_sequence.append(next_fib)\n",
    "    return fib_sequence\n",
    "\n",
    "# Function to check if a number is in the Fibonacci sequence\n",
    "def is_fibonacci(num):\n",
    "    fib_sequence = fibonacci_up_to(num)\n",
    "    return num in fib_sequence\n",
    "\n",
    "# Function to print the Fibonacci pyramid\n",
    "def fibonacci_pyramid(rows):\n",
    "    a, b = 0, 1\n",
    "    for i in range(1, rows + 1):\n",
    "        # Print leading spaces for formatting\n",
    "        print(\" \" * (rows - i), end=\"\")\n",
    "        # Print Fibonacci numbers in pyramid format\n",
    "        for j in range(i):\n",
    "            print(a, end=\" \")\n",
    "            a, b = b, a + b\n",
    "        print()\n",
    "\n",
    "# Check if the last two digits of the ID (31) are in the Fibonacci series\n",
    "last_two_digits = 31\n",
    "is_in_fibonacci = is_fibonacci(last_two_digits)\n",
    "\n",
    "# Show Fibonacci pyramid and whether 31 is a Fibonacci number\n",
    "fibonacci_pyramid(7)\n",
    "is_in_fibonacci"
   ]
  },
  {
   "cell_type": "code",
   "execution_count": null,
   "metadata": {},
   "outputs": [],
   "source": [
    "# Function to generate Fibonacci sequence up to a given limit\n",
    "def generate_fibonacci(limit):\n",
    "    fib_sequence = [0, 1]\n",
    "    while fib_sequence[-1] <= limit:\n",
    "        fib_sequence.append(fib_sequence[-1] + fib_sequence[-2])\n",
    "    return fib_sequence\n",
    "\n",
    "# Function to check if a number is in the Fibonacci sequence\n",
    "def is_fibonacci_number(number, fib_sequence):\n",
    "    return number in fib_sequence\n",
    "\n",
    "# Function to display the Fibonacci pyramid\n",
    "def display_fibonacci_pyramid(rows):\n",
    "    a, b = 0, 1\n",
    "    for i in range(1, rows + 1):\n",
    "        # Print spaces for alignment\n",
    "        print(\" \" * (rows - i), end=\"\")\n",
    "        # Print Fibonacci numbers for the current row\n",
    "        for _ in range(i):\n",
    "            print(a, end=\" \")\n",
    "            a, b = b, a + b\n",
    "        print()\n",
    "\n",
    "# Main logic\n",
    "id_last_two_digits = 31  # Replace with the last two digits of your ID\n",
    "fib_sequence = generate_fibonacci(100)  # Generate Fibonacci sequence up to 100 for simplicity\n",
    "\n",
    "# Display the Fibonacci pyramid\n",
    "print(\"Fibonacci Pyramid:\")\n",
    "display_fibonacci_pyramid(7)\n",
    "\n",
    "# Check if the ID's last two digits are in the Fibonacci sequence\n",
    "if is_fibonacci_number(id_last_two_digits, fib_sequence):\n",
    "    print(f\"\\nThe number {id_last_two_digits} is in the Fibonacci sequence.\")\n",
    "else:\n",
    "    print(f\"\\nThe number {id_last_two_digits} is NOT in the Fibonacci sequence.\")"
   ]
  },
  {
   "cell_type": "code",
   "execution_count": null,
   "metadata": {},
   "outputs": [],
   "source": [
    "def generate_fibonacci_series(n):\n",
    "    fib_series = [0, 1]\n",
    "    while len(fib_series) < n:\n",
    "        fib_series.append(fib_series[-1] + fib_series[-2])\n",
    "    return fib_series\n",
    "\n",
    "def print_fibonacci_pyramid(levels):\n",
    "    fib_series = generate_fibonacci_series(levels * (levels + 1) // 2)\n",
    "    index = 0\n",
    "    for i in range(1, levels + 1):\n",
    "        # Print leading spaces\n",
    "        print(\" \" * (levels - i), end=\"\")\n",
    "        # Print Fibonacci numbers for the current level\n",
    "        for j in range(i):\n",
    "            print(fib_series[index], end=\" \")\n",
    "            index += 1\n",
    "        print()\n",
    "\n",
    "def is_in_fibonacci_series(number):\n",
    "    a, b = 0, 1\n",
    "    while b <= number:\n",
    "        if b == number:\n",
    "            return True\n",
    "        a, b = b, a + b\n",
    "    return False\n",
    "\n",
    "# Your ID's last two digits\n",
    "id_last_two_digits = 31\n",
    "\n",
    "# Number of levels in the Fibonacci pyramid\n",
    "levels = 5\n",
    "\n",
    "# Print the Fibonacci pyramid\n",
    "print(\"Fibonacci Pyramid:\")\n",
    "print_fibonacci_pyramid(levels)\n",
    "\n",
    "# Check if the last two digits of your ID are in the Fibonacci series\n",
    "if is_in_fibonacci_series(id_last_two_digits):\n",
    "    print(f\"\\n{id_last_two_digits} is part of the Fibonacci series.\")\n",
    "else:\n",
    "    print(f\"\\n{id_last_two_digits} is not part of the Fibonacci series.\")"
   ]
  }
 ],
 "metadata": {
  "kernelspec": {
   "display_name": "Python 3",
   "language": "python",
   "name": "python3"
  },
  "language_info": {
   "codemirror_mode": {
    "name": "ipython",
    "version": 3
   },
   "file_extension": ".py",
   "mimetype": "text/x-python",
   "name": "python",
   "nbconvert_exporter": "python",
   "pygments_lexer": "ipython3",
   "version": "3.12.1"
  }
 },
 "nbformat": 4,
 "nbformat_minor": 2
}
