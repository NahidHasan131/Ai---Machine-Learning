{
 "cells": [
  {
   "cell_type": "code",
   "execution_count": 1,
   "metadata": {},
   "outputs": [
    {
     "name": "stdout",
     "output_type": "stream",
     "text": [
      "Varendra\n"
     ]
    }
   ],
   "source": [
    "print(\"Varendra\")"
   ]
  },
  {
   "cell_type": "code",
   "execution_count": 2,
   "metadata": {},
   "outputs": [
    {
     "name": "stdout",
     "output_type": "stream",
     "text": [
      "0\n",
      "1\n",
      "1\n",
      "2\n",
      "3\n",
      "5\n",
      "8\n"
     ]
    }
   ],
   "source": [
    "num1 = 0\n",
    "num2 = 1\n",
    "limit = 5\n",
    "\n",
    "print(num1)\n",
    "print(num2)\n",
    "for i in range(limit):\n",
    "    num3 = num1 + num2\n",
    "    print(num3)\n",
    "    num1 = num2\n",
    "    num2 = num3"
   ]
  },
  {
   "cell_type": "code",
   "execution_count": 3,
   "metadata": {},
   "outputs": [],
   "source": [
    "fact_num = 5\n",
    "factorial = 1"
   ]
  },
  {
   "cell_type": "code",
   "execution_count": 4,
   "metadata": {},
   "outputs": [
    {
     "name": "stdout",
     "output_type": "stream",
     "text": [
      "5\n"
     ]
    }
   ],
   "source": [
    "for i in range(fact_num,1,-1):\n",
    "    factorial = factorial * i\n",
    "print(fact_num)"
   ]
  },
  {
   "cell_type": "code",
   "execution_count": 24,
   "metadata": {},
   "outputs": [
    {
     "name": "stdout",
     "output_type": "stream",
     "text": [
      "None\n",
      "[[[10, 20, 30], [30, 40, 50]], [[100, 200, 300], [300, 400]]]\n"
     ]
    }
   ],
   "source": [
    "num1 = \n",
    "\n",
    "num2[1].append(30)\n",
    "# num1.append(20.2)\n",
    "# num1.remove(10.1)\n",
    "# num2.append(30)\n",
    "# print(num1[0])\n",
    "print(num1[1][1].remove(500))\n",
    "print(num1)"
   ]
  },
  {
   "cell_type": "code",
   "execution_count": 16,
   "metadata": {},
   "outputs": [
    {
     "name": "stdout",
     "output_type": "stream",
     "text": [
      "<class 'dict'>\n",
      "Jack\n"
     ]
    }
   ],
   "source": [
    "num3 = {\n",
    "    \"Name\" : \"Jack\",\n",
    "    \"Age\" : 23,\n",
    "    \"Passion\" : \"Gaming\",\n",
    "    \"Num1\": [\n",
    "        [\n",
    "            [\n",
    "                [10,20,30],\n",
    "                [30,40,50]\n",
    "            ],\n",
    "            [\n",
    "                [100,200,300],\n",
    "                [300,400,500]\n",
    "            ]\n",
    "        ],\n",
    "        [\n",
    "            [\n",
    "                [101,202,303],\n",
    "                [301,402,503]\n",
    "            ],\n",
    "            [\n",
    "                [1001,2002,3003],\n",
    "                [3001,4004,5005]\n",
    "            ]\n",
    "        ]\n",
    "    ]\n",
    "}\n",
    "print(type(num3))\n",
    "print(num3[\"Name\"])"
   ]
  },
  {
   "cell_type": "code",
   "execution_count": 8,
   "metadata": {},
   "outputs": [
    {
     "name": "stdout",
     "output_type": "stream",
     "text": [
      "<class 'int'>\n"
     ]
    }
   ],
   "source": [
    "a = int(input(\"Enter the number\"))\n",
    "print(type(a))\n"
   ]
  },
  {
   "cell_type": "code",
   "execution_count": 16,
   "metadata": {},
   "outputs": [
    {
     "name": "stdout",
     "output_type": "stream",
     "text": [
      "100     200\n"
     ]
    }
   ],
   "source": [
    "temp = input(\"Enter two number and use , to separate them\")\n",
    "num1 , num2, num3, num4 = temp.split(\",\")\n",
    "num1 = int(num1)\n",
    "num2 = int(num2)\n",
    "print(num1 , \"   \" , num2)"
   ]
  },
  {
   "cell_type": "code",
   "execution_count": 17,
   "metadata": {},
   "outputs": [],
   "source": [
    "num1 , num2, num3, num4  = map(int ,input(\"Enter two number and use , to separate them\").split(\",\"))"
   ]
  },
  {
   "cell_type": "code",
   "execution_count": null,
   "metadata": {},
   "outputs": [],
   "source": [
    "a = [100,200,300,400]\n",
    "b = []\n",
    "for i in range(1,3):\n",
    "    b.append(a[i])"
   ]
  },
  {
   "cell_type": "code",
   "execution_count": 19,
   "metadata": {},
   "outputs": [
    {
     "name": "stdout",
     "output_type": "stream",
     "text": [
      "[20]\n"
     ]
    }
   ],
   "source": [
    "arr1 = [10,20,30,40,50]\n",
    "\n",
    "arr2 = [arr1[x] for x in range(len(arr1)) if arr1[x] != 20]\n",
    "\n",
    "print(arr2)"
   ]
  },
  {
   "cell_type": "code",
   "execution_count": 23,
   "metadata": {},
   "outputs": [
    {
     "name": "stdout",
     "output_type": "stream",
     "text": [
      "['A', 'B']\n"
     ]
    }
   ],
   "source": [
    "dictionary = {\n",
    "    \"Student1\" : {\n",
    "        \"Name\" : \"A\",\n",
    "        \"ID\" : 100\n",
    "    },\n",
    "    \"Student2\" : {\n",
    "        \"Name\" : \"B\",\n",
    "        \"ID\" : 100\n",
    "    }\n",
    "}\n",
    "\n",
    "name = [dictionary[i][\"Name\"] for i in dictionary]\n",
    "\n",
    "print(name)"
   ]
  },
  {
   "cell_type": "code",
   "execution_count": null,
   "metadata": {},
   "outputs": [],
   "source": []
  },
  {
   "cell_type": "code",
   "execution_count": 13,
   "metadata": {},
   "outputs": [],
   "source": [
    "from collections import deque\n",
    "\n",
    "def bfs(graph, start):\n",
    "    queue = deque([start])\n",
    "\n",
    "    visited = set([start])\n",
    "\n",
    "    while queue:\n",
    "        current_node = queue.popleft()\n",
    "        \n",
    "        if(current_node == \"G\"):\n",
    "            print(current_node, end=\" \")\n",
    "        else:\n",
    "            print(current_node, end=\"->\")\n",
    "\n",
    "        for neighbor in graph[current_node]:\n",
    "            if neighbor not in visited:\n",
    "                queue.append(neighbor)\n",
    "                visited.add(neighbor)\n",
    "        \n",
    "\n"
   ]
  },
  {
   "cell_type": "code",
   "execution_count": 15,
   "metadata": {},
   "outputs": [
    {
     "name": "stdout",
     "output_type": "stream",
     "text": [
      "B->A->E->C->D->F->G "
     ]
    }
   ],
   "source": [
    "graph = {\n",
    "    \"A\" : [\"C\", \"D\"],\n",
    "    \"B\" : [\"A\", \"E\"],\n",
    "    \"C\" : [\"F\", \"G\"],\n",
    "    \"D\" : [\"G\"],\n",
    "    \"E\" : [\"F\"],\n",
    "    \"F\" : [],\n",
    "    \"G\" : []\n",
    "}\n",
    "\n",
    "bfs(graph, \"B\")"
   ]
  },
  {
   "cell_type": "code",
   "execution_count": null,
   "metadata": {},
   "outputs": [],
   "source": [
    "pip install scikit-learn"
   ]
  },
  {
   "cell_type": "code",
   "execution_count": null,
   "metadata": {},
   "outputs": [],
   "source": [
    "pip install pandas "
   ]
  },
  {
   "cell_type": "code",
   "execution_count": null,
   "metadata": {},
   "outputs": [],
   "source": [
    "pip install matplotlib"
   ]
  },
  {
   "cell_type": "code",
   "execution_count": null,
   "metadata": {},
   "outputs": [],
   "source": [
    "pip install seaborn"
   ]
  },
  {
   "cell_type": "code",
   "execution_count": 4,
   "metadata": {},
   "outputs": [],
   "source": [
    "from sklearn.datasets import load_iris\n",
    "import pandas as pd\n",
    "import seaborn as sns\n",
    "from matplotlib import pyplot as plt"
   ]
  },
  {
   "cell_type": "code",
   "execution_count": null,
   "metadata": {},
   "outputs": [],
   "source": [
    "iris = load_iris()\n",
    "print(iris)"
   ]
  },
  {
   "cell_type": "code",
   "execution_count": 18,
   "metadata": {},
   "outputs": [
    {
     "data": {
      "image/png": "[encoded data removed]",
      "text/plain": [
       "<Figure size 640x480 with 1 Axes>"
      ]
     },
     "metadata": {},
     "output_type": "display_data"
    }
   ],
   "source": [
    "iris = load_iris()\n",
    "#print(iris)\n",
    "df_iris = pd.DataFrame(data=iris.data, columns=iris.feature_names)\n",
    "#print(df_iris)\n",
    "df_iris[\"species\"] = iris.target\n",
    "#print(df_iris.head())\n",
    "#print(df_iris.info())\n",
    "#print(df_iris.isnull().sum())\n",
    "#print(df_iris.describe())\n",
    "# sns.pairplot(df_iris, hue=\"species\")\n",
    "# plt.show()\n",
    "# correlation_iris = df_iris.corr()\n",
    "# sns.heatmap(data=correlation_iris, annot=True, cmap=\"coolwarm\")\n",
    "# plt.show()\n",
    "sns.boxenplot(data=df_iris.drop(columns=\"species\"))\n",
    "plt.title(\"Boxplot\")\n",
    "plt.show()\n",
    "#print(correlation_iris)"
   ]
  },
  {
   "cell_type": "code",
   "execution_count": 5,
   "metadata": {},
   "outputs": [],
   "source": [
    "df_iris = pd.read_csv(\"archive/Iris.csv\")"
   ]
  }
 ],
 "metadata": {
  "kernelspec": {
   "display_name": "Python 3",
   "language": "python",
   "name": "python3"
  },
  "language_info": {
   "codemirror_mode": {
    "name": "ipython",
    "version": 3
   },
   "file_extension": ".py",
   "mimetype": "text/x-python",
   "name": "python",
   "nbconvert_exporter": "python",
   "pygments_lexer": "ipython3",
   "version": "3.13.1"
  }
 },
 "nbformat": 4,
 "nbformat_minor": 2
}
