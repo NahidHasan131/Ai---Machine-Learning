{
 "cells": [
  {
   "cell_type": "code",
   "execution_count": 1,
   "metadata": {},
   "outputs": [
    {
     "name": "stdout",
     "output_type": "stream",
     "text": [
      "[10, 15, 20]\n"
     ]
    }
   ],
   "source": [
    "list1 = [10, 15, 20, 25, 30]\n",
    "list2 = []\n",
    "\n",
    "for i in range(3):\n",
    "    list2.append(list1[i])\n",
    "\n",
    "print(list2)\n"
   ]
  },
  {
   "cell_type": "code",
   "execution_count": 3,
   "metadata": {},
   "outputs": [
    {
     "name": "stdout",
     "output_type": "stream",
     "text": [
      "[15, 20, 25]\n"
     ]
    }
   ],
   "source": [
    "list1 = [10, 15, 20, 25, 30]\n",
    "list2 = []\n",
    "\n",
    "for i in range(1,4):\n",
    "    list2.append(list1[i])\n",
    "\n",
    "print(list2)"
   ]
  },
  {
   "cell_type": "code",
   "execution_count": 5,
   "metadata": {},
   "outputs": [
    {
     "name": "stdout",
     "output_type": "stream",
     "text": [
      "[15, 20, 25]\n"
     ]
    }
   ],
   "source": [
    "list1 = [10, 15, 20, 25, 30]\n",
    "list2 = []\n",
    "\n",
    "length = len(list1)//2\n",
    "\n",
    "for i in range(length-1, length+2):\n",
    "    list2.append(list1[i])\n",
    "\n",
    "print(list2)"
   ]
  },
  {
   "cell_type": "code",
   "execution_count": 8,
   "metadata": {},
   "outputs": [
    {
     "name": "stdout",
     "output_type": "stream",
     "text": [
      "[15, 20, 25]\n"
     ]
    }
   ],
   "source": [
    "list1 = [10, 15, 20, 25, 30]\n",
    "length1 = len(list1)//2\n",
    "list2 = list1[length1-1:length1+2]\n",
    "\n",
    "print(list2)"
   ]
  },
  {
   "cell_type": "code",
   "execution_count": 12,
   "metadata": {},
   "outputs": [
    {
     "name": "stdout",
     "output_type": "stream",
     "text": [
      "[15, 25]\n"
     ]
    }
   ],
   "source": [
    "list1 = [10, 15, 20, 25, 30]\n",
    "length1 = len(list1)\n",
    "list2 = []\n",
    "\n",
    "for i in list1:\n",
    "    if(i % 2 !=0):\n",
    "        list2.append(i)\n",
    "\n",
    "print(list2)"
   ]
  },
  {
   "cell_type": "code",
   "execution_count": 13,
   "metadata": {},
   "outputs": [
    {
     "name": "stdout",
     "output_type": "stream",
     "text": [
      "[10, 15, 20, 25, 30]\n"
     ]
    }
   ],
   "source": [
    "list1 = [10, 15, 20, 25, 30]\n",
    "list2 = [var for var in list1]\n",
    "\n",
    "print(list2)"
   ]
  },
  {
   "cell_type": "code",
   "execution_count": 15,
   "metadata": {},
   "outputs": [
    {
     "name": "stdout",
     "output_type": "stream",
     "text": [
      "[10, 15, 20]\n"
     ]
    }
   ],
   "source": [
    "list1 = [10, 15, 20, 25, 30]\n",
    "list2 = [var for var in list1[0:3]]\n",
    "print(list2)"
   ]
  },
  {
   "cell_type": "code",
   "execution_count": 17,
   "metadata": {},
   "outputs": [
    {
     "name": "stdout",
     "output_type": "stream",
     "text": [
      "[15, 25]\n"
     ]
    }
   ],
   "source": [
    "list11 = [10, 15, 20, 25, 30]\n",
    "list2 = [var for var in list11 if var % 2 != 0]\n",
    "print(list2)"
   ]
  },
  {
   "cell_type": "code",
   "execution_count": null,
   "metadata": {},
   "outputs": [
    {
     "name": "stdout",
     "output_type": "stream",
     "text": [
      "['A+', 'A+', 'A+']\n"
     ]
    }
   ],
   "source": [
    "semester_8 = {\n",
    "     \"221311131\" : {\n",
    "        \"Name\" : \"Nahid\",\n",
    "        \"Cse-321\": \"A+\",\n",
    "        \"Cse-323\": \"B\",\n",
    "        \"Cse-324\": \"B\",\n",
    "        \"CGPA\" : 4.00\n",
    "    },\n",
    "    \"2213111310\" : {\n",
    "        \"Name\" : \"Sahid\",\n",
    "        \"Cse-321\": \"A+\",\n",
    "        \"Cse-323\": \"B-\",\n",
    "        \"Cse-324\": \"A+\",\n",
    "        \"CGPA\" :  3.80\n",
    "    },\n",
    "    \"2213111352\" : {\n",
    "        \"Name\" : \"jahid\",\n",
    "        \"Cse-321\": \"A+\",\n",
    "        \"Cse-323\": \"B+\",\n",
    "        \"Cse-324\": \"A\",\n",
    "        \"CGPA\" :  3.60\n",
    "    }\n",
    "}\n",
    "\n",
    "course_result = [semester_8[var][\"Cse-321\"] for var in semester_8]\n",
    "print(course_result)\n"
   ]
  },
  {
   "cell_type": "code",
   "execution_count": null,
   "metadata": {},
   "outputs": [
    {
     "name": "stdout",
     "output_type": "stream",
     "text": [
      "3.6\n"
     ]
    }
   ],
   "source": [
    "semester_8 = {\n",
    "     \"221311131\" : {\n",
    "        \"Name\" : \"Nahid\",\n",
    "        \"Cse-321\": \"A+\",\n",
    "        \"Cse-323\": \"B\",\n",
    "        \"Cse-324\": \"B\",\n",
    "        \"CGPA\" : 4.00\n",
    "    },\n",
    "    \"2213111310\" : {\n",
    "        \"Name\" : \"Sahid\",\n",
    "        \"Cse-321\": \"A+\",\n",
    "        \"Cse-323\": \"B-\",\n",
    "        \"Cse-324\": \"A+\",\n",
    "        \"CGPA\" :  3.80\n",
    "    },\n",
    "    \"2213111352\" : {\n",
    "        \"Name\" : \"Jahid\",\n",
    "        \"Cse-321\": \"A+\",\n",
    "        \"Cse-323\": \"B+\",\n",
    "        \"Cse-324\": \"A\",\n",
    "        \"CGPA\" :  3.60\n",
    "    }\n",
    "}\n",
    "\n",
    "student_id = input(\"Enter Student ID: \")\n",
    "\n",
    "if student_id in semester_8:\n",
    "    result = semester_8[student_id][\"CGPA\"] \n",
    "    print(result) \n",
    "else:\n",
    "    print(\"Student ID not found.\")"
   ]
  },
  {
   "cell_type": "code",
   "execution_count": 28,
   "metadata": {},
   "outputs": [
    {
     "name": "stdout",
     "output_type": "stream",
     "text": [
      "Student ID: 221311121, Course: cse111, CGPA: 3.25\n",
      "Student ID: 221311122, Course: cse111, CGPA: 3.25\n"
     ]
    }
   ],
   "source": [
    "student = {     \n",
    "    221311121: {'cse111': 3.25, 'cse121': 3.25},     \n",
    "    221311122: {'cse111': 3.25, 'cse121': 3.25}   \n",
    "}   \n",
    "\n",
    "# Input the course code\n",
    "course_code = input(\"Enter course code: \")\n",
    "\n",
    "# Using list comprehension without item() to get student IDs and CGPA for the given course code\n",
    "result = [(student_id, student[student_id][course_code]) for student_id in student if course_code in student[student_id]]\n",
    "\n",
    "# Printing the result\n",
    "if result:\n",
    "    for student_id, cgpa in result:\n",
    "        print(f\"Student ID: {student_id}, Course: {course_code}, CGPA: {cgpa}\")\n",
    "else:\n",
    "    print(f\"No students found for course code {course_code}\")"
   ]
  },
  {
   "cell_type": "code",
   "execution_count": null,
   "metadata": {},
   "outputs": [],
   "source": [
    "semister_7 = {\n",
    "    221311121: {'cse323': 4.0, 'eco331': 4.0},\n",
    "    221311123: {'cse323': 2.73, 'eco331': 3.00},\n",
    "    221311124: {'cse323': 3.17, 'eco331': 3.25},\n",
    "    221311125: {'cse323': 3.20, 'eco331': 3.25},\n",
    "    221311126: {'cse323': 3.0, 'eco331': 3.10},\n",
    "    221311127: {'cse323': 3.09, 'eco331': 3.29},\n",
    "    221311128: {'cse323': 2.80, 'eco331': 3.0},\n",
    "    221311129: {'cse323': 3.25, 'eco331': 3.40},\n",
    "    221311130: {'cse323': 3.33, 'eco331': 3.35},\n",
    "    221311131: {'cse323': 3.60, 'eco331': 4.0},\n",
    "    221311132: {'cse323': 3.0, 'eco331': 3.25},\n",
    "    221311133: {'cse323': 3.70, 'eco331': 3.89},\n",
    "    221311135: {'cse323': 3.75, 'eco331': 3.90},\n",
    "    221311139: {'cse323': 4.0, 'eco331': 4.0},\n",
    "    221311142: {'cse323': 3.45, 'eco331': 3.60},\n",
    "    221311143: {'cse323': 4.0, 'eco331': 4.0},\n",
    "    221311144: {'cse323': 3.05, 'eco331': 3.25},\n",
    "    221311145: {'cse323': 3.50, 'eco331': 3.69},\n",
    "    221311146: {'cse323': 2.65, 'eco331': 3.35},\n",
    "    221311150: {'cse323': 4.0, 'eco331': 4.0},\n",
    "    221311151: {'cse323': 3.47, 'eco331': 3.76},\n",
    "    221311152: {'cse323': 2.90, 'eco331': 3.30},\n",
    "    221311154: {'cse323': 3.44, 'eco331': 3.70},\n",
    "    221311155: {'cse323': 4.0, 'eco331': 4.0},\n",
    "    221311156: {'cse323': 2.75, 'eco331': 3.50},\n",
    "    221311157: {'cse323': 3.80, 'eco331': 3.48},\n",
    "    221311159: {'cse323': 3.24, 'eco331': 3.42},\n",
    "    221311160: {'cse323': 3.0, 'eco331': 3.56},\n",
    "}\n",
    "\n",
    "course_code = input(\"Enter course code: \")\n",
    "marks = [(student_id, semister_7[student_id][course_code]) for student_id in semister_7 if course_code in semister_7[student_id]]\n",
    "\n",
    "if marks:\n",
    "    for student_id, cgpa in marks:\n",
    "        print(f\"Student ID: {student_id}, CGPA: {cgpa}\")\n",
    "    \n",
    "    student_id = int(input(\"Enter Student ID to view all courses: \"))\n",
    "    if student_id in semister_7:\n",
    "        print(f\"Student ID: {student_id}, Grades: {semister_7[student_id]}\")"
   ]
  },
  {
   "cell_type": "code",
   "execution_count": null,
   "metadata": {},
   "outputs": [
    {
     "name": "stdout",
     "output_type": "stream",
     "text": [
      "2 1 3 9 "
     ]
    }
   ],
   "source": [
    "from collections import deque\n",
    "\n",
    "def bfs(graph, start):\n",
    "    queue = deque([start])\n",
    "    visited = set([start])\n",
    "    \n",
    "    while queue:\n",
    "        current_node = queue.popleft()\n",
    "        print(current_node, end=\" \")\n",
    "        \n",
    "        for neighbour in graph[current_node]:\n",
    "            if neighbour not in visited:\n",
    "                queue.append(neighbour)\n",
    "                visited.add(neighbour)\n",
    "\n",
    "graph = {\n",
    "    \"2\": [\"2\", \"1\"],\n",
    "    \"2\": [\"1\"],\n",
    "    \"1\": [\"3\", \"1\"],\n",
    "    \"3\": [\"1\", \"9\"],\n",
    "    \"9\": []\n",
    "}\n",
    "\n",
    "bfs(graph, \"2\")\n"
   ]
  },
  {
   "cell_type": "code",
   "execution_count": null,
   "metadata": {},
   "outputs": [
    {
     "name": "stdout",
     "output_type": "stream",
     "text": [
      "2 3 1 9 "
     ]
    }
   ],
   "source": [
    "from collections import deque\n",
    "\n",
    "def bfs(graph, start):\n",
    "    queue = deque([start]) \n",
    "    visited = set([start])\n",
    "   \n",
    "    while queue:\n",
    "        current_node = queue.popleft()\n",
    "        print(current_node, end= \" \")\n",
    "           \n",
    "        for neighbour in graph[current_node]:\n",
    "            if neighbour not in visited:\n",
    "                queue.append(neighbour)\n",
    "                visited.add(neighbour)\n",
    "\n",
    "graph={\n",
    "    \"2\":[\"2\",\"1\"], \n",
    "    \"2\":[\"3\",\"1\"], \n",
    "    \"1\":[], \n",
    "    \"3\":[\"1\"], \n",
    "    \"1\":[\"1\",\"3\"], \n",
    "    \"1\":[], \n",
    "    \"1\":[], \n",
    "    \"3\":[\"9\"], \n",
    "    \"9\":[]\n",
    "}\n",
    "bfs(graph, \"2\")"
   ]
  },
  {
   "cell_type": "code",
   "execution_count": 9,
   "metadata": {},
   "outputs": [
    {
     "name": "stdout",
     "output_type": "stream",
     "text": [
      "Starting DFS from node '2'...\n",
      "\n",
      "DFS Traversal Order with Values:\n",
      "2 1 3 "
     ]
    }
   ],
   "source": [
    "def dfs(graph, start, visited = None):\n",
    "    if visited is None:\n",
    "        visited = set()\n",
    "       \n",
    "    visited.add(start)\n",
    "    print(start, end=\" \")\n",
    "    \n",
    "    for neighbour in graph[start]:\n",
    "        if neighbour not in visited:\n",
    "            dfs(graph, neighbour, visited)\n",
    "\n",
    "graph={\n",
    "    \"2\":[\"2\"], \n",
    "    \"2\":[\"1\",\"3\"], \n",
    "    \"1\":[], \n",
    "    \"3\":[\"1\"], \n",
    "    \"1\":[\"1\",\"1\",\"3\"], \n",
    "    \"1\":[], \n",
    "    \"1\":[], \n",
    "    \"3\":[\"1\"], \n",
    "    \"1\":[]\n",
    "}\n",
    "print(\"Starting DFS from node '2'...\\n\")\n",
    "\n",
    "print(\"DFS Traversal Order with Values:\")\n",
    "dfs(graph, \"2\")"
   ]
  },
  {
   "cell_type": "code",
   "execution_count": null,
   "metadata": {},
   "outputs": [
    {
     "name": "stdout",
     "output_type": "stream",
     "text": [
      "Starting BFS from node 'a'...\n",
      "\n",
      "BFS Traversal Order with Values:\n",
      "2 2 1 3 1 1 1 3 1 "
     ]
    }
   ],
   "source": [
    "from collections import deque\n",
    "\n",
    "def bfs(graph, start, values):\n",
    "    queue = deque([start])\n",
    "    visited = set([start])\n",
    "    \n",
    "    print(\"BFS Traversal Order with Values:\")\n",
    "    while queue:\n",
    "        current_node = queue.popleft()\n",
    "        print(values[current_node], end=\" \")\n",
    "        \n",
    "        for neighbour in graph[current_node]:\n",
    "            if neighbour not in visited:\n",
    "                queue.append(neighbour)\n",
    "                visited.add(neighbour)\n",
    "values = {\n",
    "    'a': 2,\n",
    "    'b': 2,\n",
    "    'c': 1,\n",
    "    'd': 3,\n",
    "    'e': 1,\n",
    "    'f': 1,\n",
    "    'g': 1,\n",
    "    'h': 3,\n",
    "    'i': 1\n",
    "}\n",
    "graph = {\n",
    "    'a': ['b', 'c'],          \n",
    "    'b': ['d'],               \n",
    "    'c': ['e'],             \n",
    "    'd': ['f'],             \n",
    "    'e': ['g'],               \n",
    "    'f': ['h'],            \n",
    "    'g': ['i'],              \n",
    "    'h': [],                 \n",
    "    'i': []              \n",
    "}\n",
    "print(\"Starting BFS from node 'a'...\\n\")\n",
    "bfs(graph, 'a', values)\n"
   ]
  },
  {
   "cell_type": "code",
   "execution_count": 3,
   "metadata": {},
   "outputs": [
    {
     "name": "stdout",
     "output_type": "stream",
     "text": [
      "Starting BFS from node 'a'...\n",
      "\n",
      "BFS Traversal Order with Values:\n",
      "221311077"
     ]
    }
   ],
   "source": [
    "from collections import deque \n",
    "\n",
    "def bfs(graph,start,values):\n",
    "    queue = deque([start])\n",
    "    visited = set([start])\n",
    "\n",
    "    print(\"BFS Traversal Order with Values:\")\n",
    "    while queue:\n",
    "        current_node = queue.popleft()\n",
    "        print(values[current_node], end=\"\")\n",
    "\n",
    "        for neighbour in graph[current_node]:\n",
    "            if neighbour not in visited:\n",
    "                queue.append(neighbour)\n",
    "                visited.add(neighbour)\n",
    "\n",
    "values = {\n",
    "    'a':2,\n",
    "    'b':2,\n",
    "    'c':1,\n",
    "    'd':3,\n",
    "    'e':1,\n",
    "    'f':1,\n",
    "    'g':0,\n",
    "    'h':7,\n",
    "    'i':7\n",
    "}\n",
    "\n",
    "graph = {\n",
    "    'a':['b','c'],\n",
    "    'b':['d'],\n",
    "    'c':['e'],\n",
    "    'd':['f'],\n",
    "    'e':['g'],\n",
    "    'f':['h'],\n",
    "    'g':['i'],\n",
    "    'h':[],\n",
    "    'i':[]\n",
    "}\n",
    "\n",
    "print(\"Starting BFS from node 'a'...\\n\")\n",
    "bfs(graph, 'a', values)"
   ]
  }
 ],
 "metadata": {
  "kernelspec": {
   "display_name": "Python 3",
   "language": "python",
   "name": "python3"
  },
  "language_info": {
   "codemirror_mode": {
    "name": "ipython",
    "version": 3
   },
   "file_extension": ".py",
   "mimetype": "text/x-python",
   "name": "python",
   "nbconvert_exporter": "python",
   "pygments_lexer": "ipython3",
   "version": "3.13.2"
  }
 },
 "nbformat": 4,
 "nbformat_minor": 2
}
