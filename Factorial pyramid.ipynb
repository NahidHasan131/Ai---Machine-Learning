{
 "cells": [
  {
   "cell_type": "code",
   "execution_count": 38,
   "metadata": {},
   "outputs": [
    {
     "name": "stdout",
     "output_type": "stream",
     "text": [
      "        1 \n",
      "      1 2 2 \n",
      "    1 2 6 3 3 \n",
      "  1 2 6 24 4 4 4 \n",
      "1 2 6 24 120 5 5 5 5 \n",
      "39 Not found!\n"
     ]
    }
   ],
   "source": [
    "def cal_factorial(n):\n",
    "    result = 1\n",
    "    for i in range(1, n + 1):\n",
    "        result = result * i\n",
    "    return result\n",
    "\n",
    "rows = 5\n",
    "Id = 39\n",
    "\n",
    "fact_numbers = []\n",
    "for i in range(1, rows + 1):\n",
    "    for space in range(rows, i, -1): \n",
    "        print(' ', end=\" \")\n",
    "\n",
    "    fact_list = []\n",
    "    for num in range(1, i + 1):\n",
    "        factorial = cal_factorial(num)\n",
    "        fact_list.append(factorial)\n",
    "        fact_numbers.append(factorial)\n",
    "        print(factorial, end=\" \")\n",
    "\n",
    "    for number in reversed(fact_list[:-1]):\n",
    "        print(num, end=\" \")\n",
    "    print() \n",
    "\n",
    "if Id in fact_numbers:\n",
    "    result = \"Found!\"\n",
    "else:\n",
    "    result = \"Not found!\"\n",
    "\n",
    "print(Id, result)\n"
   ]
  },
  {
   "cell_type": "code",
   "execution_count": 42,
   "metadata": {},
   "outputs": [
    {
     "name": "stdout",
     "output_type": "stream",
     "text": [
      "Find factorial for the value: 5\n",
      "        1 \n",
      "      1 2 1 \n",
      "    1 2 6 2 1 \n",
      "  1 2 6 24 6 2 1 \n",
      "1 2 6 24 120 24 6 2 1 \n",
      "\n",
      "Last 2 digit of id is 31\n",
      "Last 2 digits of id = 31 not found!\n"
     ]
    }
   ],
   "source": [
    "n = int(input(\"Enter number the value of n(number of row): \"))\n",
    "print(\"Find factorial for the value:\", n)\n",
    "def factorial_cal(num):\n",
    "    value = 1\n",
    "    for i in range(1, num + 1):\n",
    "        value *= i\n",
    "    return value\n",
    "\n",
    "factorial_numbers = []\n",
    "for i in range(1, n + 1): \n",
    "    for j in range(n, i, -1):\n",
    "        print(' ', end=\" \")\n",
    "\n",
    "    temp = []\n",
    "    for number in range(1, i + 1): \n",
    "        factorial = factorial_cal(number)\n",
    "        temp.append(factorial)\n",
    "        factorial_numbers.append(factorial)\n",
    "        print(factorial, end=\" \")\n",
    "\n",
    "    temp.sort(reverse=True)  \n",
    "    for i in range(1, len(temp)):\n",
    "        print(temp[i], end=\" \")\n",
    "\n",
    "    print() \n",
    "\n",
    "print() \n",
    "id = input(\"Enter last 2 digits of your ID: \")\n",
    "print(\"Last 2 digit of id is\", id)\n",
    "if id in factorial_numbers:\n",
    "    print(\"Last 2 digits of id =\", id, \"found!\")\n",
    "else:\n",
    "    print(\"Last 2 digits of id =\", id, \"not found!\")\n",
    "\n"
   ]
  },
  {
   "cell_type": "code",
   "execution_count": null,
   "metadata": {},
   "outputs": [
    {
     "name": "stdout",
     "output_type": "stream",
     "text": [
      "        1 \n",
      "      1 2 1 \n",
      "    1 2 6 2 1 \n",
      "  1 2 6 24 6 2 1 \n",
      "1 2 6 24 120 24 6 2 1 \n",
      "31 Last digits of your id not found!\n"
     ]
    }
   ],
   "source": [
    "def calculate_factorial(num):\n",
    "    result = 1\n",
    "    for i in range(1, num + 1):\n",
    "        result *= i\n",
    "    return result\n",
    "\n",
    "rows = int(input(\"Enter number to find pyramid: \"))\n",
    "\n",
    "# Taking user input for the last two digits at once\n",
    "LastTwoD = input(\"Enter the last two digits of your ID: \")\n",
    "\n",
    "factorial_numbers = []\n",
    "\n",
    "for i in range(1, rows + 1):  # Loop for printing each level of the pyramid\n",
    "    for space in range(rows, i, -1):  # Adding spaces for proper alignment\n",
    "        print(' ', end=\" \")\n",
    "\n",
    "    temp = []\n",
    "    for number in range(1, i + 1):  # Calculate factorial for each number in this level\n",
    "        factorial = calculate_factorial(number)\n",
    "        temp.append(factorial)\n",
    "        factorial_numbers.append(factorial)\n",
    "        print(factorial, end=\" \")\n",
    "\n",
    "    temp.sort(reverse=True)  # Sorting the factorials in reverse order for mirroring\n",
    "    for i in range(1, len(temp)):  # Skip the middle element to avoid duplication\n",
    "        print(temp[i], end=\" \")\n",
    "\n",
    "    print()  # Line break after each level\n",
    "\n",
    "# Normal if-else condition instead of a one-liner\n",
    "if LastTwoD in factorial_numbers:\n",
    "    check_result = \"Last digits of your id found!\"\n",
    "else:\n",
    "    check_result = \"Last digits of your id not found!\"\n",
    "\n",
    "print(LastTwoD,check_result)\n"
   ]
  },
  {
   "cell_type": "code",
   "execution_count": 27,
   "metadata": {},
   "outputs": [
    {
     "name": "stdout",
     "output_type": "stream",
     "text": [
      "43 is not a fibonacci number\n",
      "    2 \n",
      "   3 5 \n",
      "  8 13 21 \n",
      " 34 55 89 144 \n",
      "233 377 610 987 1597 \n"
     ]
    }
   ],
   "source": []
  }
 ],
 "metadata": {
  "kernelspec": {
   "display_name": "Python 3",
   "language": "python",
   "name": "python3"
  },
  "language_info": {
   "codemirror_mode": {
    "name": "ipython",
    "version": 3
   },
   "file_extension": ".py",
   "mimetype": "text/x-python",
   "name": "python",
   "nbconvert_exporter": "python",
   "pygments_lexer": "ipython3",
   "version": "3.12.1"
  }
 },
 "nbformat": 4,
 "nbformat_minor": 2
}
