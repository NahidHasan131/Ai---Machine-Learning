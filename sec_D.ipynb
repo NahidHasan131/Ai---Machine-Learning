{
 "cells": [
  {
   "cell_type": "code",
   "execution_count": 1,
   "metadata": {},
   "outputs": [
    {
     "ename": "TypeError",
     "evalue": "can only concatenate str (not \"float\") to str",
     "output_type": "error",
     "traceback": [
      "\u001b[1;31m---------------------------------------------------------------------------\u001b[0m",
      "\u001b[1;31mTypeError\u001b[0m                                 Traceback (most recent call last)",
      "Cell \u001b[1;32mIn[1], line 5\u001b[0m\n\u001b[0;32m      3\u001b[0m num1 \u001b[38;5;241m=\u001b[39m \u001b[38;5;124m\"\u001b[39m\u001b[38;5;124m10\u001b[39m\u001b[38;5;124m\"\u001b[39m\n\u001b[0;32m      4\u001b[0m num2 \u001b[38;5;241m=\u001b[39m \u001b[38;5;241m20.20\u001b[39m\n\u001b[1;32m----> 5\u001b[0m num3 \u001b[38;5;241m=\u001b[39m  \u001b[43mnum1\u001b[49m\u001b[43m \u001b[49m\u001b[38;5;241;43m+\u001b[39;49m\u001b[43m \u001b[49m\u001b[43mnum2\u001b[49m\n\u001b[0;32m      6\u001b[0m \u001b[38;5;28mprint\u001b[39m(\u001b[38;5;28mtype\u001b[39m(num3))\n",
      "\u001b[1;31mTypeError\u001b[0m: can only concatenate str (not \"float\") to str"
     ]
    }
   ],
   "source": [
    "num = 10\n",
    "num = 10.10\n",
    "num1 = \"10\"\n",
    "num2 = 20.20\n",
    "num3 =  num1 + num2\n",
    "print(type(num3))"
   ]
  },
  {
   "cell_type": "code",
   "execution_count": 11,
   "metadata": {},
   "outputs": [],
   "source": [
    "input1 = input(\"Enter a number:\")"
   ]
  },
  {
   "cell_type": "code",
   "execution_count": 13,
   "metadata": {},
   "outputs": [
    {
     "name": "stdout",
     "output_type": "stream",
     "text": [
      "1\n",
      "I cant get out\n",
      "2\n",
      "I cant get out\n",
      "Im out\n"
     ]
    }
   ],
   "source": [
    "# for(int i = 0;i<n; i++){\n",
    "\n",
    "# }\n",
    "\n",
    "arr = [1,2]\n",
    "\n",
    "for var in arr:\n",
    "    print(var)\n",
    "    print(\"I cant get out\")\n",
    "    \n",
    "print(\"Im out\")"
   ]
  },
  {
   "cell_type": "code",
   "execution_count": 17,
   "metadata": {},
   "outputs": [
    {
     "name": "stdout",
     "output_type": "stream",
     "text": [
      "1\n",
      "2\n",
      "3\n",
      "5\n",
      "8\n"
     ]
    }
   ],
   "source": [
    "num1 = 0\n",
    "num2 = 1\n",
    "limit = 5\n",
    "\n",
    "for var in range(limit):\n",
    "    num3 = num1 + num2 \n",
    "    print(num3)\n",
    "    num1 = num2\n",
    "    num2 = num3"
   ]
  },
  {
   "cell_type": "code",
   "execution_count": 23,
   "metadata": {},
   "outputs": [
    {
     "name": "stdout",
     "output_type": "stream",
     "text": [
      "105\n"
     ]
    }
   ],
   "source": [
    "fact_num = 7\n",
    "factorial = 1\n",
    "\n",
    "for var in range(fact_num,1,-2):\n",
    "    factorial = factorial * var\n",
    "print(factorial)"
   ]
  },
  {
   "cell_type": "code",
   "execution_count": 5,
   "metadata": {},
   "outputs": [
    {
     "name": "stdout",
     "output_type": "stream",
     "text": [
      "This is a method\n"
     ]
    }
   ],
   "source": [
    "# int Func_name (args){\n",
    "\n",
    "# }\n",
    "\n",
    "def func_name(args):\n",
    "    print(\"This is a method\")\n",
    "    return 10\n",
    "\n",
    "var1 = func_name(10)"
   ]
  },
  {
   "cell_type": "code",
   "execution_count": 11,
   "metadata": {},
   "outputs": [
    {
     "name": "stdout",
     "output_type": "stream",
     "text": [
      "[10, 12, 30, 40, 300, 400]\n"
     ]
    }
   ],
   "source": [
    "list1 = [12,20,30,40]\n",
    "list2 = [300,400]\n",
    "list1.append(10)\n",
    "list1.reverse()\n",
    "list1.remove(20)\n",
    "list1.sort()\n",
    "\n",
    "list1 = list1 + list2\n",
    "\n",
    "print(list1)"
   ]
  },
  {
   "cell_type": "code",
   "execution_count": 14,
   "metadata": {},
   "outputs": [
    {
     "name": "stdout",
     "output_type": "stream",
     "text": [
      "202\n"
     ]
    }
   ],
   "source": [
    "list_4d = [\n",
    "    [\n",
    "        [\n",
    "            [10,20,30],\n",
    "            [40,50,60]\n",
    "        ],\n",
    "        [\n",
    "            [100,200,300],\n",
    "            [400,500,600]\n",
    "        ]\n",
    "    ],\n",
    "    [\n",
    "        [\n",
    "            [101,202,303],\n",
    "            [404,505,606]\n",
    "        ],\n",
    "        [\n",
    "            [1001,2002,3003],\n",
    "            [4004,5005,6006]\n",
    "        ]\n",
    "    ]\n",
    "]\n",
    "\n",
    "print(list_4d[1][0][0][1])"
   ]
  },
  {
   "cell_type": "code",
   "execution_count": 20,
   "metadata": {},
   "outputs": [
    {
     "name": "stdout",
     "output_type": "stream",
     "text": [
      "{'Name': 'Ronok', 'Id': 221311127, 'CGPA': 3.0}\n"
     ]
    }
   ],
   "source": [
    "tuple1 = (10,20)\n",
    "\n",
    "Student_list = {\n",
    "    \"Student1\" : {\n",
    "        \"Name\" : \"Kuhin\",\n",
    "        \"Id\" : 221311155,\n",
    "        \"CGPA\" : 4.00\n",
    "    },\n",
    "    \"Student2\" : {\n",
    "        \"Name\" : \"Nuhan\",\n",
    "        \"Id\" : 221311121,\n",
    "        \"CGPA\" : 4.00\n",
    "    },\n",
    "    \"Student3\" : {\n",
    "        \"Name\" : \"Ronok\",\n",
    "        \"Id\" : 221311127,\n",
    "        \"CGPA\" : 3.00\n",
    "    },\n",
    "    \"Student4\":{\n",
    "        \"Name\": \"Ripper\",\n",
    "        \"ID\" : \"Confidential\",\n",
    "        \"CGPA\" : \"Unknow\",\n",
    "        \"Time_Space\" : [\n",
    "                [\n",
    "                    [\n",
    "                        [10,20,30],\n",
    "                        [40,50,60]\n",
    "                    ],\n",
    "                    [\n",
    "                        [100,200,300],\n",
    "                        [400,500,600]\n",
    "                    ]\n",
    "                ],\n",
    "                [\n",
    "                    [\n",
    "                        [101,202,303],\n",
    "                        [404,505,606]\n",
    "                    ],\n",
    "                    [\n",
    "                        [1001,2002,3003],\n",
    "                        [4004,5005,6006]\n",
    "                    ]\n",
    "                ]\n",
    "            ]\n",
    "    }\n",
    "}\n",
    "\n",
    "print(Student_list[\"Student3\"])"
   ]
  }
 ],
 "metadata": {
  "kernelspec": {
   "display_name": "Python 3",
   "language": "python",
   "name": "python3"
  },
  "language_info": {
   "codemirror_mode": {
    "name": "ipython",
    "version": 3
   },
   "file_extension": ".py",
   "mimetype": "text/x-python",
   "name": "python",
   "nbconvert_exporter": "python",
   "pygments_lexer": "ipython3",
   "version": "3.13.2"
  }
 },
 "nbformat": 4,
 "nbformat_minor": 2
}
