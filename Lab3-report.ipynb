{
 "cells": [
  {
   "cell_type": "code",
   "execution_count": null,
   "metadata": {},
   "outputs": [
    {
     "name": "stdout",
     "output_type": "stream",
     "text": [
      "[10, 52, 30]\n",
      "[10, 30]\n",
      "[10, 30, 25]\n",
      "[25, 30, 10]\n",
      "[10, 25, 30]\n",
      "[10, 25, 30, 2, 5, 7, 9]\n",
      "2\n"
     ]
    }
   ],
   "source": [
    "list1 = [10,52,30,]\n",
    "list2 = [2,5,7,9]\n",
    "\n",
    "print(list1)\n",
    "list1.remove(52)\n",
    "print(list1)\n",
    "list1.append(25)\n",
    "print(list1)\n",
    "list1.reverse()\n",
    "print(list1)\n",
    "list1.sort()\n",
    "print(list1)\n",
    "\n",
    "list3 = list1 + list2\n",
    "\n",
    "print(list3)\n",
    "print(list3[3])"
   ]
  },
  {
   "cell_type": "code",
   "execution_count": null,
   "metadata": {},
   "outputs": [],
   "source": []
  },
  {
   "cell_type": "code",
   "execution_count": 18,
   "metadata": {},
   "outputs": [
    {
     "name": "stdout",
     "output_type": "stream",
     "text": [
      "6\n"
     ]
    }
   ],
   "source": [
    "list_2d =[\n",
    "    [10,25,35],\n",
    "    [2,4,6]\n",
    "]\n",
    "print(list_2d[1][2])"
   ]
  },
  {
   "cell_type": "code",
   "execution_count": 20,
   "metadata": {},
   "outputs": [
    {
     "name": "stdout",
     "output_type": "stream",
     "text": [
      "40\n"
     ]
    }
   ],
   "source": [
    "list_3d=[\n",
    "    [\n",
    "    [10,25,35],\n",
    "    [2,4,6]\n",
    "],\n",
    "[\n",
    "    [100,250,35],\n",
    "    [20,40,60]\n",
    "]\n",
    "]\n",
    "print(list_3d[1][1][1])"
   ]
  },
  {
   "cell_type": "code",
   "execution_count": 21,
   "metadata": {},
   "outputs": [
    {
     "name": "stdout",
     "output_type": "stream",
     "text": [
      "256\n"
     ]
    }
   ],
   "source": [
    "list_4d=[\n",
    "    [\n",
    "    [\n",
    "    [10,25,35],\n",
    "    [2,4,6]\n",
    "],\n",
    "[\n",
    "    [100,250,35],\n",
    "    [20,40,60]\n",
    "]\n",
    "],\n",
    "[\n",
    "    [\n",
    "    [10,256,35],\n",
    "    [2,4,6]\n",
    "],\n",
    "[\n",
    "    [100,250,35],\n",
    "    [20,40,60]\n",
    "]\n",
    "]\n",
    "]\n",
    "print(list_4d[1][0][0][1])"
   ]
  },
  {
   "cell_type": "code",
   "execution_count": null,
   "metadata": {},
   "outputs": [
    {
     "name": "stdout",
     "output_type": "stream",
     "text": [
      "{'student1': {'Name': 'nahid', 'id': 221311131, 'CGPA': 3.85}, 'student2': {'Name': 'Homai Ara', 'id': 221311131, 'CGPA': 3.85}, 'student3': {'Name': 'Shrabpny', 'id': 221311131, 'CGPA': 3.85}}\n",
      "221311131\n"
     ]
    }
   ],
   "source": [
    "students_list = {\n",
    "    \"student1\":{\n",
    "        \"Name\": \"nahid\",\n",
    "        \"id\": 221311131,\n",
    "        \"CGPA\": 3.85\n",
    "    },\n",
    "    \"student2\":{\n",
    "        \"Name\": \"Homai Ara\",\n",
    "        \"id\": 221311131,\n",
    "        \"CGPA\": 3.85\n",
    "    },\n",
    "    \"student3\":{\n",
    "        \"Name\": \"Shrabpny\",\n",
    "        \"id\": 221311131,\n",
    "        \"CGPA\": 3.85\n",
    "    }\n",
    "}\n",
    "\n",
    "print(students_list)\n",
    "print(students_list[\"student1\"][\"id\"])"
   ]
  },
  {
   "cell_type": "code",
   "execution_count": 15,
   "metadata": {},
   "outputs": [
    {
     "name": "stdout",
     "output_type": "stream",
     "text": [
      "Time space List(where 2002):  [1001, 2002, 3003]\n",
      "\n",
      "Remove 2002:  [1001, 3003]\n",
      "\n",
      "Add My Id(221311131):  [1001, 3003, 221311131]\n"
     ]
    }
   ],
   "source": [
    "Student_list = {\n",
    "    \"Student1\" : {\n",
    "        \"Name\" : \"Nahid hasan\",\n",
    "        \"Id\" : 221311131,\n",
    "        \"CGPA\" : 3.85\n",
    "    },\n",
    "    \"Student2\" : {\n",
    "        \"Name\" : \"Nuhan\",\n",
    "        \"Id\" : 221311121,\n",
    "        \"CGPA\" : 3.95\n",
    "    },\n",
    "    \"Student3\" : {\n",
    "        \"Name\" : \"Kuhin\",\n",
    "        \"Id\" : 221311155,\n",
    "        \"CGPA\" : 3.91\n",
    "    },\n",
    "    \"Student4\":{\n",
    "        \"Name\": \"Ripper\",\n",
    "        \"ID\" : \"Confidential\",\n",
    "        \"CGPA\" : \"Unknow\",\n",
    "        \"Time_Space\" : [\n",
    "                [\n",
    "                    [\n",
    "                        [10,20,30],\n",
    "                        [40,50,60]\n",
    "                    ],\n",
    "                    [\n",
    "                        [100,200,300],\n",
    "                        [400,500,600]\n",
    "                    ]\n",
    "                ],\n",
    "                [\n",
    "                    [\n",
    "                        [101,202,303],\n",
    "                        [404,505,606]\n",
    "                    ],\n",
    "                    [\n",
    "                        [1001,2002,3003],\n",
    "                        [4004,5005,6006]\n",
    "                    ]\n",
    "                ]\n",
    "            ]\n",
    "    }\n",
    "}\n",
    "\n",
    "print(\"Time space List(where 2002): \" ,Student_list[\"Student4\"][\"Time_Space\"][1][1][0])\n",
    "print()\n",
    "\n",
    "Student_list[\"Student4\"][\"Time_Space\"][1][1][0].remove(2002)\n",
    "print(\"Remove 2002: \",Student_list[\"Student4\"][\"Time_Space\"][1][1][0])\n",
    "print()\n",
    "\n",
    "Student_list[\"Student4\"][\"Time_Space\"][1][1][0].append(221311131)\n",
    "print(\"Add My Id(221311131): \",Student_list[\"Student4\"][\"Time_Space\"][1][1][0])"
   ]
  }
 ],
 "metadata": {
  "kernelspec": {
   "display_name": "Python 3",
   "language": "python",
   "name": "python3"
  },
  "language_info": {
   "codemirror_mode": {
    "name": "ipython",
    "version": 3
   },
   "file_extension": ".py",
   "mimetype": "text/x-python",
   "name": "python",
   "nbconvert_exporter": "python",
   "pygments_lexer": "ipython3",
   "version": "3.13.2"
  }
 },
 "nbformat": 4,
 "nbformat_minor": 2
}
