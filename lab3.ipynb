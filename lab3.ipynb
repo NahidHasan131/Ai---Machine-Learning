{
 "cells": [
  {
   "cell_type": "code",
   "execution_count": 2,
   "metadata": {},
   "outputs": [
    {
     "name": "stdout",
     "output_type": "stream",
     "text": [
      "This is number: Five\n"
     ]
    }
   ],
   "source": [
    "def func(a):\n",
    "    print(\"This is number:\" ,a)\n",
    "\n",
    "func(\"Five\")"
   ]
  },
  {
   "cell_type": "code",
   "execution_count": null,
   "metadata": {},
   "outputs": [
    {
     "name": "stdout",
     "output_type": "stream",
     "text": [
      "5\n",
      "25\n",
      "7\n"
     ]
    }
   ],
   "source": [
    "a =int(input()) \n",
    "b = int(input()) \n",
    "def add(a,b):\n",
    "    print(a+b)\n",
    "    return a+b\n",
    "var = add(a,b)\n",
    "\n",
    "num = 5 * var\n",
    "num2 = 2 + var\n",
    "print(num)\n",
    "print(num2)\n"
   ]
  },
  {
   "cell_type": "code",
   "execution_count": 24,
   "metadata": {},
   "outputs": [
    {
     "name": "stdout",
     "output_type": "stream",
     "text": [
      "30\n",
      "[10, 30, 40]\n",
      "[10, 30, 40, 50, 60]\n"
     ]
    }
   ],
   "source": [
    "list1 = [10,20,30]\n",
    "list2 = [50,60]\n",
    "\n",
    "list1.append(40)\n",
    "list1.reverse()\n",
    "list1.remove(20)\n",
    "list1.sort()\n",
    "\n",
    "list3 = list1 + list2\n",
    "\n",
    "print(list1[1])\n",
    "print(list1)\n",
    "print(list3)\n"
   ]
  },
  {
   "cell_type": "code",
   "execution_count": 22,
   "metadata": {},
   "outputs": [
    {
     "name": "stdout",
     "output_type": "stream",
     "text": [
      "50\n"
     ]
    }
   ],
   "source": [
    "#2d list\n",
    "list_2d = [\n",
    "    [10,20,30], #0 no. row\n",
    "    [40,50,60]  #1 no. row\n",
    "]\n",
    "\n",
    "print(list_2d[1][1]) #50 1 no row er 1 no column e "
   ]
  },
  {
   "cell_type": "code",
   "execution_count": 5,
   "metadata": {},
   "outputs": [
    {
     "name": "stdout",
     "output_type": "stream",
     "text": [
      "140\n"
     ]
    }
   ],
   "source": [
    "#3d list\n",
    "list_3d = [\n",
    "    [    #0 no list\n",
    "     [10,20,30], \n",
    "     [40,50,60] #1 no row 1 no column 50\n",
    "    ],\n",
    "    [   #1 no list\n",
    "     [100,110,120], \n",
    "     [1300,140,150]\n",
    "    ]\n",
    "]\n",
    "\n",
    "print(list_3d[1][1][1])  #[0] = 0 no list , [1] = 1 no row , [1] = 1 no column"
   ]
  },
  {
   "cell_type": "code",
   "execution_count": 6,
   "metadata": {},
   "outputs": [
    {
     "name": "stdout",
     "output_type": "stream",
     "text": [
      "550\n"
     ]
    }
   ],
   "source": [
    "#4d list\n",
    "list_4d = [\n",
    "    [ #0 no list\n",
    "        [    #0 no list\n",
    "        [10,20,30], \n",
    "        [40,50,60] #1 no row 1 no column 50\n",
    "        ],\n",
    "        [   #1 no list\n",
    "        [100,110,120], \n",
    "        [1300,140,150]\n",
    "        ]\n",
    "   ],\n",
    "    [ #1 no list\n",
    "        [    #0 no list\n",
    "        [110,202,330], \n",
    "        [440,550,660] #1 no row 1 no column 50\n",
    "        ],\n",
    "        [   #1 no list\n",
    "        [1200,110,120], \n",
    "        [1300,140,150]\n",
    "        ]\n",
    "   ]\n",
    "]\n",
    "\n",
    "print(list_4d[1][0][1][1])  #[1] = 1 no list, [0] = 0 no list , [0] = 0 no row , [1] = 1 no column"
   ]
  },
  {
   "cell_type": "code",
   "execution_count": 16,
   "metadata": {},
   "outputs": [
    {
     "name": "stdout",
     "output_type": "stream",
     "text": [
      "(10, 20, 30)\n"
     ]
    }
   ],
   "source": [
    "tuple1 = (10,20,30)  #const list\n",
    "\n",
    "print(tuple1)"
   ]
  },
  {
   "cell_type": "code",
   "execution_count": 33,
   "metadata": {},
   "outputs": [
    {
     "name": "stdout",
     "output_type": "stream",
     "text": [
      "User\n",
      "nh123\n"
     ]
    }
   ],
   "source": [
    "dictionary1 = {\n",
    "    10 : \"Admin\",\n",
    "    100 : \"User\" ,\n",
    "    \"password\" : \"nh123\"\n",
    "}\n",
    "\n",
    "print(dictionary1[100])\n",
    "print(dictionary1[\"password\"])"
   ]
  },
  {
   "cell_type": "code",
   "execution_count": 38,
   "metadata": {},
   "outputs": [
    {
     "name": "stdout",
     "output_type": "stream",
     "text": [
      "{'Name': 'Nahid', 'id': 221311131, 'CGPA': 4.0}\n",
      "Sahid\n"
     ]
    }
   ],
   "source": [
    "student_list ={\n",
    "    \"student1\" : {\n",
    "        \"Name\" : \"Nahid\",\n",
    "        \"id\" : 221311131,\n",
    "        \"CGPA\" : 4.00\n",
    "    },\n",
    "    \"student2\" : {\n",
    "        \"Name\" : \"Sahid\",\n",
    "        \"id\" : 2213111310,\n",
    "        \"CGPA\" :  3.80\n",
    "    },\n",
    "    \"student3\" : {\n",
    "        \"Name\" : \"jahid\",\n",
    "        \"id\" : 2213111352,\n",
    "        \"CGPA\" :  3.60\n",
    "    }\n",
    "    ,\n",
    "    \"student4\" : {\n",
    "        \"Name\" : \"Sahid\",\n",
    "        \"id\" : 2213111319,\n",
    "        \"CGPA\" :  3.10\n",
    "    }\n",
    "}\n",
    "\n",
    "print(student_list[\"student1\"])\n",
    "print(student_list[\"student2\"][\"Name\"])"
   ]
  }
 ],
 "metadata": {
  "kernelspec": {
   "display_name": "Python 3",
   "language": "python",
   "name": "python3"
  },
  "language_info": {
   "codemirror_mode": {
    "name": "ipython",
    "version": 3
   },
   "file_extension": ".py",
   "mimetype": "text/x-python",
   "name": "python",
   "nbconvert_exporter": "python",
   "pygments_lexer": "ipython3",
   "version": "3.13.2"
  }
 },
 "nbformat": 4,
 "nbformat_minor": 2
}
