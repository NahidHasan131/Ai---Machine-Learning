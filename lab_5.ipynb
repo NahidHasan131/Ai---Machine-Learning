{
 "cells": [
  {
   "cell_type": "code",
   "execution_count": 1,
   "metadata": {},
   "outputs": [],
   "source": [
    "from collections import deque\n",
    "\n",
    "def bfs(graph, start):\n",
    "    queue = deque([start])\n",
    "    \n",
    "    visited = set([start])\n",
    "   \n",
    "    while queue:\n",
    "        current_node = queue.popleft()\n",
    "        print(current_node, end= \" \")\n",
    "           \n",
    "        for neighbour in graph[current_node]:\n",
    "            if neighbour not in visited:\n",
    "                queue.append(neighbour)\n",
    "                visited.add(neighbour)"
   ]
  },
  {
   "cell_type": "code",
   "execution_count": 16,
   "metadata": {},
   "outputs": [],
   "source": [
    "def dfs(graph, start, visited = None):\n",
    "    if visited is None:\n",
    "        visited = set()\n",
    "        \n",
    "    visited.add(start)\n",
    "    print(start, end=\" \")\n",
    "    \n",
    "    for neighbour in graph[start]:\n",
    "        if neighbour not in visited:\n",
    "            dfs(graph, neighbour, visited)"
   ]
  },
  {
   "cell_type": "code",
   "execution_count": null,
   "metadata": {},
   "outputs": [],
   "source": [
    "\n",
    "graph={\n",
    "    \"A\":[\"B\",\"C\"],\n",
    "    \"B\":[\"D\",\"E\"],\n",
    "    \"C\":[\"F\"],\n",
    "    \"D\":[],\n",
    "    \"E\":[\"F\"],\n",
    "    \"F\":[]\n",
    "}\n"
   ]
  },
  {
   "cell_type": "code",
   "execution_count": null,
   "metadata": {},
   "outputs": [
    {
     "name": "stdout",
     "output_type": "stream",
     "text": [
      "A B C D E F "
     ]
    }
   ],
   "source": [
    "bfs(graph, \"A\")"
   ]
  },
  {
   "cell_type": "code",
   "execution_count": 17,
   "metadata": {},
   "outputs": [
    {
     "name": "stdout",
     "output_type": "stream",
     "text": [
      "A B D E F C "
     ]
    }
   ],
   "source": [
    "dfs(graph, \"A\")"
   ]
  }
 ],
 "metadata": {
  "kernelspec": {
   "display_name": "Python 3",
   "language": "python",
   "name": "python3"
  },
  "language_info": {
   "codemirror_mode": {
    "name": "ipython",
    "version": 3
   },
   "file_extension": ".py",
   "mimetype": "text/x-python",
   "name": "python",
   "nbconvert_exporter": "python",
   "pygments_lexer": "ipython3",
   "version": "3.13.2"
  }
 },
 "nbformat": 4,
 "nbformat_minor": 2
}
