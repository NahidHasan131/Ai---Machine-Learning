{
 "cells": [
  {
   "cell_type": "code",
   "execution_count": 3,
   "metadata": {},
   "outputs": [
    {
     "name": "stdout",
     "output_type": "stream",
     "text": [
      "[10, 20, 30]\n"
     ]
    }
   ],
   "source": [
    "original_list = [10, 20, 30, 40, 5]\n",
    "# extracted_list = [original_list[0], original_list[1], original_list[1]] \n",
    "# print(extracted_list)\n",
    "\n",
    "extracted_list= []\n",
    "for i in range(3):\n",
    "    extracted_list.append(original_list[i])\n",
    "    \n",
    "print(extracted_list)"
   ]
  },
  {
   "cell_type": "code",
   "execution_count": null,
   "metadata": {},
   "outputs": [
    {
     "name": "stdout",
     "output_type": "stream",
     "text": [
      "[20, 30, 40]\n"
     ]
    }
   ],
   "source": [
    "original_list = [10, 20, 30, 40, 5]\n",
    "# extracted_list = [original_list[1], original_list[2], original_list[3]] \n",
    "# print(extracted_list)\n",
    "\n",
    "extracted_list= []\n",
    "\n",
    "for i in range(1,4):\n",
    "    extracted_list.append(original_list[i])  #middle element\n",
    "print(extracted_list)"
   ]
  },
  {
   "cell_type": "code",
   "execution_count": null,
   "metadata": {},
   "outputs": [
    {
     "name": "stdout",
     "output_type": "stream",
     "text": [
      "[20, 30, 40]\n"
     ]
    }
   ],
   "source": [
    "original_list = [10, 20, 30, 40, 5]\n",
    "extracted_list= []\n",
    "length1 = len(original_list)//2      #flooring korar jonno\n",
    "\n",
    "for i in range(length1-1, length1+2):\n",
    "    extracted_list.append(original_list[i])\n",
    "print(extracted_list)"
   ]
  },
  {
   "cell_type": "code",
   "execution_count": null,
   "metadata": {},
   "outputs": [
    {
     "name": "stdout",
     "output_type": "stream",
     "text": [
      "[10, 20, 30]\n"
     ]
    }
   ],
   "source": [
    "original_list = [10, 20, 30, 40, 5]\n",
    "extracted_list= original_list[0:3]  # slice for first # element\n",
    "\n",
    "print(extracted_list)"
   ]
  },
  {
   "cell_type": "code",
   "execution_count": null,
   "metadata": {},
   "outputs": [
    {
     "name": "stdout",
     "output_type": "stream",
     "text": [
      "[20, 30, 40]\n"
     ]
    }
   ],
   "source": [
    "original_list = [10, 20, 30, 40, 5]\n",
    "length1 = len(original_list)//2  \n",
    "extracted_list= original_list[length1-1 : length1+2]   #slice for middle 3 element\n",
    "\n",
    "print(extracted_list)"
   ]
  },
  {
   "cell_type": "code",
   "execution_count": null,
   "metadata": {},
   "outputs": [
    {
     "name": "stdout",
     "output_type": "stream",
     "text": [
      "[25, 5]\n"
     ]
    }
   ],
   "source": [
    "#odd print\n",
    "original_list = [10, 25, 30, 40, 5]\n",
    "length1 = len(original_list)\n",
    "extracted_list= []\n",
    "for i in original_list:\n",
    "    if(i  % 2 !=0):\n",
    "       extracted_list.append(i)\n",
    "    \n",
    "print(extracted_list)"
   ]
  },
  {
   "cell_type": "code",
   "execution_count": null,
   "metadata": {},
   "outputs": [
    {
     "name": "stdout",
     "output_type": "stream",
     "text": [
      "[10, 25, 30, 40, 5]\n"
     ]
    }
   ],
   "source": [
    "original_list = [10, 25, 30, 40, 5]\n",
    "extracted_list= [var for var in original_list]  #print all element\n",
    "print(extracted_list)"
   ]
  },
  {
   "cell_type": "code",
   "execution_count": null,
   "metadata": {},
   "outputs": [
    {
     "name": "stdout",
     "output_type": "stream",
     "text": [
      "[10, 25, 30]\n"
     ]
    }
   ],
   "source": [
    "original_list = [10, 25, 30, 40, 5]\n",
    "extracted_list= [var for var in original_list[0:3]]  #first 3 element\n",
    "print(extracted_list)"
   ]
  },
  {
   "cell_type": "code",
   "execution_count": null,
   "metadata": {},
   "outputs": [
    {
     "name": "stdout",
     "output_type": "stream",
     "text": [
      "[10, 25, 30]\n"
     ]
    }
   ],
   "source": [
    "original_list = [10, 25, 30, 40, 5]\n",
    "extracted_list= [original_list[var] for var in range(3) ]\n",
    "print(extracted_list)"
   ]
  },
  {
   "cell_type": "code",
   "execution_count": null,
   "metadata": {},
   "outputs": [
    {
     "name": "stdout",
     "output_type": "stream",
     "text": [
      "[25, 5]\n"
     ]
    }
   ],
   "source": [
    "original_list = [10, 25, 30, 40, 5]\n",
    "extracted_list= [var for var in original_list if var %2 != 0]    #odd print\n",
    "print(extracted_list)"
   ]
  },
  {
   "cell_type": "code",
   "execution_count": 30,
   "metadata": {},
   "outputs": [
    {
     "name": "stdout",
     "output_type": "stream",
     "text": [
      "[{'Name': 'Nahid', 'id': 221311131, 'CGPA': 4.0}, {'Name': 'Sahid', 'id': 2213111310, 'CGPA': 3.8}, {'Name': 'jahid', 'id': 2213111352, 'CGPA': 3.6}]\n"
     ]
    }
   ],
   "source": [
    "semester_8 = {\n",
    "     \"student1\" : {\n",
    "        \"Name\" : \"Nahid\",\n",
    "        \"id\" : 221311131,\n",
    "        \"CGPA\" : 4.00\n",
    "    },\n",
    "    \"student2\" : {\n",
    "        \"Name\" : \"Sahid\",\n",
    "        \"id\" : 2213111310,\n",
    "        \"CGPA\" :  3.80\n",
    "    },\n",
    "    \"student3\" : {\n",
    "        \"Name\" : \"jahid\",\n",
    "        \"id\" : 2213111352,\n",
    "        \"CGPA\" :  3.60\n",
    "    }\n",
    "}\n",
    "\n",
    "name_list = [semester_8[student] for student in semester_8]\n",
    "\n",
    "print(name_list)"
   ]
  },
  {
   "cell_type": "code",
   "execution_count": 31,
   "metadata": {},
   "outputs": [
    {
     "name": "stdout",
     "output_type": "stream",
     "text": [
      "['Nahid', 'Sahid', 'jahid']\n"
     ]
    }
   ],
   "source": [
    "semester_8 = {\n",
    "     \"student1\" : {\n",
    "        \"Name\" : \"Nahid\",\n",
    "        \"id\" : 221311131,\n",
    "        \"CGPA\" : 4.00\n",
    "    },\n",
    "    \"student2\" : {\n",
    "        \"Name\" : \"Sahid\",\n",
    "        \"id\" : 2213111310,\n",
    "        \"CGPA\" :  3.80\n",
    "    },\n",
    "    \"student3\" : {\n",
    "        \"Name\" : \"jahid\",\n",
    "        \"id\" : 2213111352,\n",
    "        \"CGPA\" :  3.60\n",
    "    }\n",
    "}\n",
    "\n",
    "name_list = [semester_8[student][\"Name\"] for student in semester_8]\n",
    "\n",
    "print(name_list)"
   ]
  },
  {
   "cell_type": "code",
   "execution_count": 37,
   "metadata": {},
   "outputs": [
    {
     "name": "stdout",
     "output_type": "stream",
     "text": [
      "['Nahid', 'Sahid', 'jahid']\n",
      "[221311131, 2213111310, 2213111352]\n"
     ]
    }
   ],
   "source": [
    "semester_8 = {\n",
    "     \"student1\" : {\n",
    "        \"Name\" : \"Nahid\",\n",
    "        \"id\" : 221311131,\n",
    "        \"CGPA\" : 4.00\n",
    "    },\n",
    "    \"student2\" : {\n",
    "        \"Name\" : \"Sahid\",\n",
    "        \"id\" : 2213111310,\n",
    "        \"CGPA\" :  3.80\n",
    "    },\n",
    "    \"student3\" : {\n",
    "        \"Name\" : \"jahid\",\n",
    "        \"id\" : 2213111352,\n",
    "        \"CGPA\" :  3.60\n",
    "    }\n",
    "}\n",
    "\n",
    "name_list = [semester_8[student][\"Name\"] for student in semester_8]\n",
    "id_list = [semester_8[student][\"id\"] for student in semester_8]\n",
    "\n",
    "print(name_list)\n",
    "print(id_list)"
   ]
  }
 ],
 "metadata": {
  "kernelspec": {
   "display_name": "Python 3",
   "language": "python",
   "name": "python3"
  },
  "language_info": {
   "codemirror_mode": {
    "name": "ipython",
    "version": 3
   },
   "file_extension": ".py",
   "mimetype": "text/x-python",
   "name": "python",
   "nbconvert_exporter": "python",
   "pygments_lexer": "ipython3",
   "version": "3.13.1"
  }
 },
 "nbformat": 4,
 "nbformat_minor": 2
}
