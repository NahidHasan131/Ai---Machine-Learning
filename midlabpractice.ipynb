{
 "cells": [
  {
   "cell_type": "code",
   "execution_count": 3,
   "id": "c5d8f87f",
   "metadata": {},
   "outputs": [
    {
     "name": "stdout",
     "output_type": "stream",
     "text": [
      "fff\n"
     ]
    }
   ],
   "source": [
    "inp = input(\"Enter Your name: \")\n",
    "print(inp)"
   ]
  },
  {
   "cell_type": "code",
   "execution_count": null,
   "id": "9d443310",
   "metadata": {},
   "outputs": [
    {
     "name": "stdout",
     "output_type": "stream",
     "text": [
      "9\n",
      "10\n",
      "11\n",
      "12\n",
      "13\n"
     ]
    }
   ],
   "source": [
    "c = 8\n",
    "ran =5\n",
    "for i in range(5):\n",
    "    c = c + 1\n",
    "    print(c)\n"
   ]
  },
  {
   "cell_type": "code",
   "execution_count": 9,
   "id": "c3a36cb6",
   "metadata": {},
   "outputs": [
    {
     "name": "stdout",
     "output_type": "stream",
     "text": [
      "1\n",
      "IN the array\n",
      "2\n",
      "IN the array\n",
      "4\n",
      "IN the array\n",
      "out\n"
     ]
    }
   ],
   "source": [
    "arr = [1,2,4]\n",
    "\n",
    "for i in arr:\n",
    "    print(i)\n",
    "    print(\"IN the array\")\n",
    "print(\"out\")"
   ]
  },
  {
   "cell_type": "code",
   "execution_count": 10,
   "id": "280c76f2",
   "metadata": {},
   "outputs": [
    {
     "name": "stdout",
     "output_type": "stream",
     "text": [
      "120\n"
     ]
    }
   ],
   "source": [
    "fac = 5\n",
    "factorial = 1\n",
    "\n",
    "for i in range(fac,1,-1):\n",
    "    factorial = factorial * i\n",
    "print(factorial)"
   ]
  },
  {
   "cell_type": "code",
   "execution_count": 27,
   "id": "2ba323f9",
   "metadata": {},
   "outputs": [
    {
     "name": "stdout",
     "output_type": "stream",
     "text": [
      "this is function\n",
      "10\n"
     ]
    }
   ],
   "source": [
    "def func(arg):\n",
    "    print(\"this is function\")\n",
    "    print(arg)\n",
    "\n",
    "func(10)"
   ]
  },
  {
   "cell_type": "code",
   "execution_count": null,
   "id": "05b5de30",
   "metadata": {},
   "outputs": [
    {
     "name": "stdout",
     "output_type": "stream",
     "text": [
      "[25, 20, 15, 10]\n",
      "20\n"
     ]
    }
   ],
   "source": [
    "lists = [20, 25, 15, 35]\n",
    "\n",
    "lists.append(10)\n",
    "lists.remove(35)\n",
    "lists.sort(reverse=True)\n",
    "lists.reverse()\n",
    "\n",
    "print(lists)\n",
    "print(lists[1])\n",
    "\n"
   ]
  },
  {
   "cell_type": "code",
   "execution_count": 18,
   "id": "757522b7",
   "metadata": {},
   "outputs": [
    {
     "name": "stdout",
     "output_type": "stream",
     "text": [
      "40\n"
     ]
    }
   ],
   "source": [
    "list_2d = [\n",
    "    [10,20,5],\n",
    "    [30,40,20]\n",
    "]\n",
    "print(list_2d[1][1])"
   ]
  },
  {
   "cell_type": "code",
   "execution_count": 19,
   "id": "b4e494fb",
   "metadata": {},
   "outputs": [
    {
     "name": "stdout",
     "output_type": "stream",
     "text": [
      "40\n"
     ]
    }
   ],
   "source": [
    "list_3d = [\n",
    "    [\n",
    "        [10,20,5],\n",
    "        [30,40,20]\n",
    "    ],\n",
    "    [\n",
    "        [15,2,50],\n",
    "        [3,40,25]\n",
    "    ]\n",
    "]\n",
    "print(list_3d[1][1][1])"
   ]
  },
  {
   "cell_type": "code",
   "execution_count": null,
   "id": "b60568eb",
   "metadata": {},
   "outputs": [
    {
     "name": "stdout",
     "output_type": "stream",
     "text": [
      "401\n"
     ]
    }
   ],
   "source": [
    "list_4d = [\n",
    "    [\n",
    "        [\n",
    "            [10,20,5],\n",
    "            [30,40,20]\n",
    "        ],\n",
    "        [\n",
    "            [103,203,5],\n",
    "            [304,403,20]\n",
    "        ]\n",
    "    ],\n",
    "    [\n",
    "        [\n",
    "            [110,20,53],\n",
    "            [30,401,250]\n",
    "        ],\n",
    "        [\n",
    "            [110,20,15],\n",
    "            [310,140,210]\n",
    "        ]\n",
    "    ]\n",
    "]\n",
    "print(list_4d[1][0][1][1])"
   ]
  },
  {
   "cell_type": "code",
   "execution_count": 33,
   "id": "23a6be74",
   "metadata": {},
   "outputs": [
    {
     "name": "stdout",
     "output_type": "stream",
     "text": [
      "nahid\n",
      "computer\n"
     ]
    }
   ],
   "source": [
    "student_list ={\n",
    "    131 : \"nahid\",\n",
    "    \"student1\":{\n",
    "        \"name\": \"nahid\",\n",
    "        \"id\": 221311131,\n",
    "        \"Sem\": \"8th\",\n",
    "        \"sub\":{\n",
    "            \"cse1\": \"computer\",\n",
    "            \"cse2\": \"computer graphics\"\n",
    "        }\n",
    "    },\n",
    "    \"student2\":{\n",
    "        \"name\": \"sahid\",\n",
    "        \"id\": 221311130,\n",
    "        \"Sem\": \"8th\"\n",
    "    }\n",
    "    \n",
    "}\n",
    "print(student_list[131])\n",
    "print(student_list[\"student1\"][\"sub\"][\"cse1\"])"
   ]
  },
  {
   "cell_type": "code",
   "execution_count": 54,
   "id": "0954cd22",
   "metadata": {},
   "outputs": [
    {
     "name": "stdout",
     "output_type": "stream",
     "text": [
      "[10, 20]\n"
     ]
    }
   ],
   "source": [
    "original_list = [10, 20, 30, 40, 5]\n",
    "extracted_list = [original_list[0], original_list[1]]\n",
    "print(extracted_list)"
   ]
  },
  {
   "cell_type": "code",
   "execution_count": 44,
   "id": "520c2397",
   "metadata": {},
   "outputs": [
    {
     "name": "stdout",
     "output_type": "stream",
     "text": [
      "[10, 20, 30]\n"
     ]
    }
   ],
   "source": [
    "original_list = [10, 20, 30, 40, 5]\n",
    "extracted_list = []\n",
    "\n",
    "for i in range(3):\n",
    "    extracted_list.append(original_list[i])\n",
    "\n",
    "print(extracted_list)"
   ]
  },
  {
   "cell_type": "code",
   "execution_count": 45,
   "id": "52aee91f",
   "metadata": {},
   "outputs": [
    {
     "name": "stdout",
     "output_type": "stream",
     "text": [
      "[20, 30, 40]\n"
     ]
    }
   ],
   "source": [
    "original_list = [10, 20, 30, 40, 5]\n",
    "extracted_list = []\n",
    "\n",
    "for i in range(1,4):\n",
    "    extracted_list.append(original_list[i])\n",
    "\n",
    "print(extracted_list)"
   ]
  },
  {
   "cell_type": "code",
   "execution_count": 46,
   "id": "19fa415e",
   "metadata": {},
   "outputs": [
    {
     "name": "stdout",
     "output_type": "stream",
     "text": [
      "[20, 30, 40]\n"
     ]
    }
   ],
   "source": [
    "original_list = [10, 20, 30, 40, 5]\n",
    "extracted_list = []\n",
    "length = len(original_list)//2\n",
    "\n",
    "for i in range(length-1,length+2):\n",
    "    extracted_list.append(original_list[i])\n",
    "\n",
    "print(extracted_list)"
   ]
  },
  {
   "cell_type": "code",
   "execution_count": 47,
   "id": "a8ff26f7",
   "metadata": {},
   "outputs": [
    {
     "name": "stdout",
     "output_type": "stream",
     "text": [
      "[10, 20, 30]\n"
     ]
    }
   ],
   "source": [
    "original_list = [10, 20, 30, 40, 5]\n",
    "extracted_list = original_list[0:3]\n",
    "print(extracted_list)"
   ]
  },
  {
   "cell_type": "code",
   "execution_count": 49,
   "id": "86c50e00",
   "metadata": {},
   "outputs": [
    {
     "name": "stdout",
     "output_type": "stream",
     "text": [
      "[20, 30, 40]\n"
     ]
    }
   ],
   "source": [
    "original_list = [10, 20, 30, 40, 5]\n",
    "length = len(original_list)//2\n",
    "extracted_list = original_list[length-1:length+2]\n",
    "print(extracted_list)"
   ]
  },
  {
   "cell_type": "code",
   "execution_count": null,
   "id": "46e4b04f",
   "metadata": {},
   "outputs": [],
   "source": [
    "#odd print\n",
    "original_list = [10, 25, 30, 40, 5]\n",
    "\n",
    "extracted_list= []\n",
    "for i in original_list:\n",
    "    if(i  % 2 !=0):\n",
    "       extracted_list.append(i)\n",
    "    \n",
    "print(extracted_list)"
   ]
  },
  {
   "cell_type": "code",
   "execution_count": null,
   "id": "b5f30e37",
   "metadata": {},
   "outputs": [
    {
     "name": "stdout",
     "output_type": "stream",
     "text": [
      "[10, 25, 30, 40, 5]\n"
     ]
    }
   ],
   "source": [
    "original_list = [10, 25, 30, 40, 5]\n",
    "extracted_list = [var for var in original_list]\n",
    "print(extracted_list)"
   ]
  },
  {
   "cell_type": "code",
   "execution_count": 51,
   "id": "c10e274d",
   "metadata": {},
   "outputs": [
    {
     "name": "stdout",
     "output_type": "stream",
     "text": [
      "[10, 25, 30]\n"
     ]
    }
   ],
   "source": [
    "original_list = [10, 25, 30, 40, 5]\n",
    "extracted_list = [var for var in original_list[0:3]]\n",
    "print(extracted_list)"
   ]
  },
  {
   "cell_type": "code",
   "execution_count": 52,
   "id": "eba2581d",
   "metadata": {},
   "outputs": [
    {
     "name": "stdout",
     "output_type": "stream",
     "text": [
      "[10, 25, 30]\n"
     ]
    }
   ],
   "source": [
    "original_list = [10, 25, 30, 40, 5]\n",
    "extracted_list = [original_list[var] for var in range(3)]\n",
    "print(extracted_list)"
   ]
  },
  {
   "cell_type": "code",
   "execution_count": 53,
   "id": "94c5d165",
   "metadata": {},
   "outputs": [
    {
     "name": "stdout",
     "output_type": "stream",
     "text": [
      "[25, 5]\n"
     ]
    }
   ],
   "source": [
    "original_list = [10, 25, 30, 40, 5]\n",
    "extracted_list = [var for var in original_list if var % 2 !=0]\n",
    "print(extracted_list)"
   ]
  }
 ],
 "metadata": {
  "kernelspec": {
   "display_name": "Python 3",
   "language": "python",
   "name": "python3"
  },
  "language_info": {
   "codemirror_mode": {
    "name": "ipython",
    "version": 3
   },
   "file_extension": ".py",
   "mimetype": "text/x-python",
   "name": "python",
   "nbconvert_exporter": "python",
   "pygments_lexer": "ipython3",
   "version": "3.13.2"
  }
 },
 "nbformat": 4,
 "nbformat_minor": 5
}
